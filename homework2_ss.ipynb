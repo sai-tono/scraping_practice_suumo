{
 "cells": [
  {
   "cell_type": "markdown",
   "id": "45067d92",
   "metadata": {},
   "source": [
    "## スクレイピング賃貸編\n",
    "\n",
    "- goenでのteam開発を意識して「賃貸」画面のスクレイピングに取り組む\n",
    "- 一人暮らしの人が近隣の情報も検索するという今後の開発意図を考慮して、そのようなペルソナが使いそうな検索から物件情報を取得する\n",
    "- 想像では、沿線検索を利用するのではないかと仮定して、日比谷線沿線の物件情報の取得を以下に書いていく → うまくいかない\n",
    "- 地域情報からで検索することとする（荒川区）"
   ]
  },
  {
   "cell_type": "code",
   "execution_count": 2,
   "id": "127c327e",
   "metadata": {},
   "outputs": [],
   "source": [
    "#おまじない\n",
    "#importする順番はアルファベット順が良い！\n",
    "from bs4 import BeautifulSoup\n",
    "import pandas as pd\n",
    "import requests\n",
    "from time import sleep\n",
    "\n",
    "#printを使うと見辛いのでpprintをインポートする\n",
    "from pprint import pprint"
   ]
  },
  {
   "cell_type": "code",
   "execution_count": 3,
   "id": "13c3f47f",
   "metadata": {},
   "outputs": [
    {
     "name": "stdout",
     "output_type": "stream",
     "text": [
      "https://suumo.jp/chintai/tokyo/sc_arakawa/?page=1\n"
     ]
    }
   ],
   "source": [
    "#変数URLにSUUMOのホームページURLを格納する\n",
    "url = 'https://suumo.jp/chintai/tokyo/sc_arakawa/?page={}'\n",
    "\n",
    "#アクセスするためのURLをtarget_urlに格納する\n",
    "target_url = url.format(1)\n",
    "\n",
    "#print()してtarget_urlを確認する\n",
    "print(target_url)"
   ]
  },
  {
   "cell_type": "code",
   "execution_count": 4,
   "id": "5b3a6004",
   "metadata": {},
   "outputs": [],
   "source": [
    "#target_urlへのアクセス結果を変数rに格納する\n",
    "r = requests.get(target_url)\n",
    "\n",
    "#取得結果を解析してsoupに格納する\n",
    "soup = BeautifulSoup(r.text,\"html.parser\")"
   ]
  },
  {
   "cell_type": "code",
   "execution_count": 5,
   "id": "2e3c07ea",
   "metadata": {},
   "outputs": [],
   "source": [
    "#soup"
   ]
  },
  {
   "cell_type": "code",
   "execution_count": 6,
   "id": "ec87735d",
   "metadata": {},
   "outputs": [
    {
     "name": "stdout",
     "output_type": "stream",
     "text": [
      "UTF-8\n"
     ]
    }
   ],
   "source": [
    "print(r.encoding) # res.encodingで文字エンコードを確認できます。"
   ]
  },
  {
   "cell_type": "code",
   "execution_count": 7,
   "id": "e824d096",
   "metadata": {},
   "outputs": [],
   "source": [
    "#HTMLを確認→それぞれの賃貸情報はcassetteitemに格納されている\n",
    "contents = soup.find_all('div',class_='cassetteitem')"
   ]
  },
  {
   "cell_type": "code",
   "execution_count": 8,
   "id": "3f062a59",
   "metadata": {},
   "outputs": [],
   "source": [
    "#contents"
   ]
  },
  {
   "cell_type": "code",
   "execution_count": 9,
   "id": "9c8ce797",
   "metadata": {},
   "outputs": [
    {
     "data": {
      "text/plain": [
       "20"
      ]
     },
     "execution_count": 9,
     "metadata": {},
     "output_type": "execute_result"
    }
   ],
   "source": [
    "#find_allで取得した結果はリスト形式になっているのでlenで要素数を確認。1pあたり２０件\n",
    "len(contents)"
   ]
  },
  {
   "cell_type": "code",
   "execution_count": 10,
   "id": "b7abdf29",
   "metadata": {},
   "outputs": [],
   "source": [
    "content = contents[0]"
   ]
  },
  {
   "cell_type": "code",
   "execution_count": 11,
   "id": "3b08ce9b",
   "metadata": {},
   "outputs": [],
   "source": [
    "#content"
   ]
  },
  {
   "cell_type": "markdown",
   "id": "35596171",
   "metadata": {},
   "source": [
    "### 物件情報の取得"
   ]
  },
  {
   "cell_type": "code",
   "execution_count": 12,
   "id": "4b8f778b",
   "metadata": {},
   "outputs": [],
   "source": [
    "#物件・建物情報を変数detailに格納\n",
    "detail = content.find('div',class_='cassetteitem-detail')\n",
    "#変数titleに物件名を格納,text情報だけ抜くので.text\n",
    "title = detail.find('div',class_='cassetteitem_content-title').text\n",
    "\n",
    "#変数addressに住所を格納\n",
    "address = detail.find('li',class_='cassetteitem_detail-col1').text\n",
    "\n",
    "#変数accessにアクセス情報を格納\n",
    "access = detail.find('li',class_='cassetteitem_detail-col2').text\n",
    "\n",
    "#変数ageに築年数を格納\n",
    "age = detail.find('li',class_='cassetteitem_detail-col3').text"
   ]
  },
  {
   "cell_type": "code",
   "execution_count": 13,
   "id": "8bd7071b",
   "metadata": {},
   "outputs": [
    {
     "data": {
      "text/plain": [
       "('アイレックス',\n",
       " '東京都荒川区町屋２',\n",
       " '\\n東京メトロ千代田線/町屋駅 歩7分\\nＪＲ山手線/田端駅 歩24分\\n京成本線/新三河島駅 歩13分\\n',\n",
       " '\\n築16年\\n4階建\\n')"
      ]
     },
     "execution_count": 13,
     "metadata": {},
     "output_type": "execute_result"
    }
   ],
   "source": [
    "title,address,access,age"
   ]
  },
  {
   "cell_type": "markdown",
   "id": "9a8290e5",
   "metadata": {},
   "source": [
    "### 部屋情報の取得"
   ]
  },
  {
   "cell_type": "code",
   "execution_count": 14,
   "id": "be14d3de",
   "metadata": {},
   "outputs": [],
   "source": [
    "#各部屋の情報を変数tableに格納\n",
    "table = content.find('div',class_='cassetteitem-item')\n",
    "#table"
   ]
  },
  {
   "cell_type": "code",
   "execution_count": 15,
   "id": "ee7de284",
   "metadata": {},
   "outputs": [],
   "source": [
    "#変数tableから全てのtrタグを取得、変数tr_tagsに格納\n",
    "tr_tags = table.find_all('tr',class_='js-cassette_link')\n",
    "\n",
    "#tr_tagsの中から最初の一つだけtr_tagに格納\n",
    "tr_tag = tr_tags[0]\n",
    "#tr_tag"
   ]
  },
  {
   "cell_type": "code",
   "execution_count": 16,
   "id": "fa634188",
   "metadata": {},
   "outputs": [],
   "source": [
    "#trの中身確認。tdの３〜６番目に情報が格納されている。\n",
    "#find_allで取得した結果はリスト形式で出てくるので、カンマを使って欲しい部分を取り出す\n",
    "\n",
    "#変数floor,price,first_fee,capacity\n",
    "\n",
    "floor,price,first_fee,capacity = tr_tag.find_all('td')[2:6]\n",
    "#floor,price,first_fee,capacity"
   ]
  },
  {
   "cell_type": "code",
   "execution_count": 17,
   "id": "8db52709",
   "metadata": {},
   "outputs": [],
   "source": [
    "# リスト形式で抽出した情報を上記は各変数に入れ込むような式の形になっている（unpackという）"
   ]
  },
  {
   "cell_type": "code",
   "execution_count": 18,
   "id": "29f7eafa",
   "metadata": {},
   "outputs": [
    {
     "data": {
      "text/plain": [
       "(<li><span class=\"cassetteitem_price cassetteitem_price--rent\"><span class=\"cassetteitem_other-emphasis ui-text--bold\">14万円</span></span></li>,\n",
       " <li><span class=\"cassetteitem_price cassetteitem_price--administration\">8000円</span></li>,\n",
       " <li><span class=\"cassetteitem_price cassetteitem_price--deposit\">-</span></li>,\n",
       " <li><span class=\"cassetteitem_price cassetteitem_price--gratuity\">14万円</span></li>,\n",
       " <li><span class=\"cassetteitem_madori\">2LDK</span></li>,\n",
       " <li><span class=\"cassetteitem_menseki\">58.78m<sup>2</sup></span></li>,\n",
       " <li><span class=\"cassetteitem_madori\">2LDK</span></li>,\n",
       " <li><span class=\"cassetteitem_menseki\">58.78m<sup>2</sup></span></li>)"
      ]
     },
     "execution_count": 18,
     "metadata": {},
     "output_type": "execute_result"
    }
   ],
   "source": [
    "#さらにliが入っているので分解\n",
    "#変数feeとmanagement_feeに賃料と管理費を格納\n",
    "fee,management_fee = price.find_all('li')\n",
    "\n",
    "#変数depositとgratuityに敷金、礼金を格納\n",
    "deposit,gratuity = first_fee.find_all('li')\n",
    "\n",
    "#変数madoriとmensekiに間取りと面積を格納\n",
    "madori,menseki = capacity.find_all('li')\n",
    "\n",
    "fee,management_fee,deposit,gratuity,madori,menseki,madori,menseki"
   ]
  },
  {
   "cell_type": "code",
   "execution_count": 19,
   "id": "3a2d2811",
   "metadata": {},
   "outputs": [],
   "source": [
    "### 取得した情報を辞書型に格納していく"
   ]
  },
  {
   "cell_type": "code",
   "execution_count": 20,
   "id": "f856320b",
   "metadata": {},
   "outputs": [],
   "source": [
    "#あとでデータを扱いやすくするために辞書型に格納する！\n",
    "\n",
    "d = {\n",
    "    'title':title,\n",
    "    'address':address,\n",
    "    'access':access,\n",
    "    'age':age,\n",
    "    'floor':floor.text,\n",
    "    'fee':fee.text,\n",
    "    'management_fee':management_fee.text,\n",
    "    'deposit':deposit.text,\n",
    "    'gratuity':gratuity.text,\n",
    "    'madori':madori.text,\n",
    "    'menseki':menseki.text\n",
    "}"
   ]
  },
  {
   "cell_type": "code",
   "execution_count": 21,
   "id": "b7753d2d",
   "metadata": {},
   "outputs": [
    {
     "data": {
      "text/plain": [
       "{'title': 'アイレックス',\n",
       " 'address': '東京都荒川区町屋２',\n",
       " 'access': '\\n東京メトロ千代田線/町屋駅 歩7分\\nＪＲ山手線/田端駅 歩24分\\n京成本線/新三河島駅 歩13分\\n',\n",
       " 'age': '\\n築16年\\n4階建\\n',\n",
       " 'floor': '\\r\\n\\t\\t\\t\\t\\t\\t\\t\\t\\t\\t\\t1階',\n",
       " 'fee': '14万円',\n",
       " 'management_fee': '8000円',\n",
       " 'deposit': '-',\n",
       " 'gratuity': '14万円',\n",
       " 'madori': '2LDK',\n",
       " 'menseki': '58.78m2'}"
      ]
     },
     "execution_count": 21,
     "metadata": {},
     "output_type": "execute_result"
    }
   ],
   "source": [
    "d"
   ]
  },
  {
   "cell_type": "markdown",
   "id": "d2c5bd08",
   "metadata": {},
   "source": [
    "### 1ページ目から全ての情報を取得する"
   ]
  },
  {
   "cell_type": "code",
   "execution_count": 22,
   "id": "64ee4ca7",
   "metadata": {},
   "outputs": [],
   "source": [
    "#変数d_listに空のリストを作成する\n",
    "d_list = []\n",
    "\n",
    "#全ての物件情報（２０件）を取得する\n",
    "contents = soup.find_all('div',class_='cassetteitem')\n",
    "\n",
    "#各物件情報をforループで取得する\n",
    "for content in contents:\n",
    "    \n",
    "    #物件情報と部屋情報を取得\n",
    "    detail = content.find('div',class_='cassetteitem-detail')\n",
    "    table = content.find('div',class_='cassetteitem-item')\n",
    "    \n",
    "    #物件情報から必要な情報を取得\n",
    "    title = detail.find('div',class_='cassetteitem_content-title').text\n",
    "    address = detail.find('li',class_='cassetteitem_detail-col1').text\n",
    "    access = detail.find('li',class_='cassetteitem_detail-col2').text\n",
    "    age = detail.find('li',class_='cassetteitem_detail-col3').text\n",
    "    \n",
    "    #部屋情報のブロックから各部屋情報を取得\n",
    "    tr_tags = table.find_all('tr',class_='js-cassette_link')\n",
    "    \n",
    "    #各部屋情報をforループで取得する\n",
    "    for tr_tag in tr_tags:\n",
    "        \n",
    "        #部屋情報の行から欲しい情報を取得\n",
    "        floor,price,first_fee,capacity = tr_tag.find_all('td')[2:6]\n",
    "        \n",
    "        #さらに細かい情報を取得\n",
    "        fee,management_fee = price.find_all('li')\n",
    "        deposit,gratuity = first_fee.find_all('li')\n",
    "        madori,menseki = capacity.find_all('li')\n",
    "        \n",
    "        #取得した全ての情報を辞書に格納\n",
    "        d = {\n",
    "            'title':title,\n",
    "            'address':address,\n",
    "            'access':access,\n",
    "            'age':age,\n",
    "            'floor':floor.text,\n",
    "            'fee':fee.text,\n",
    "            'management_fee':management_fee.text,\n",
    "            'deposit':deposit.text,\n",
    "            'gratuity':gratuity.text,\n",
    "            'madori':madori.text,\n",
    "            'menseki':menseki.text\n",
    "        }\n",
    "        \n",
    "        #取得した辞書をd_listに格納する！\n",
    "        \n",
    "        d_list.append(d)"
   ]
  },
  {
   "cell_type": "code",
   "execution_count": 25,
   "id": "1f1291a4",
   "metadata": {},
   "outputs": [],
   "source": [
    "#d_list"
   ]
  },
  {
   "cell_type": "code",
   "execution_count": 26,
   "id": "f43937e7",
   "metadata": {},
   "outputs": [
    {
     "name": "stdout",
     "output_type": "stream",
     "text": [
      "{'access': '\\n東京メトロ千代田線/町屋駅 歩7分\\nＪＲ山手線/田端駅 歩24分\\n京成本線/新三河島駅 歩13分\\n',\n",
      " 'address': '東京都荒川区町屋２',\n",
      " 'age': '\\n築16年\\n4階建\\n',\n",
      " 'deposit': '-',\n",
      " 'fee': '14万円',\n",
      " 'floor': '\\r\\n\\t\\t\\t\\t\\t\\t\\t\\t\\t\\t\\t1階',\n",
      " 'gratuity': '14万円',\n",
      " 'madori': '2LDK',\n",
      " 'management_fee': '8000円',\n",
      " 'menseki': '58.78m2',\n",
      " 'title': 'アイレックス'}\n",
      "\n",
      "{'access': '\\nＪＲ山手線/西日暮里駅 歩6分\\n京成本線/新三河島駅 歩8分\\nＪＲ京浜東北線/日暮里駅 歩14分\\n',\n",
      " 'address': '東京都荒川区西日暮里６',\n",
      " 'age': '\\n築9年\\n5階建\\n',\n",
      " 'deposit': '4.1万円',\n",
      " 'fee': '8.2万円',\n",
      " 'floor': '\\r\\n\\t\\t\\t\\t\\t\\t\\t\\t\\t\\t\\t2階',\n",
      " 'gratuity': '8.2万円',\n",
      " 'madori': '1DK',\n",
      " 'management_fee': '3000円',\n",
      " 'menseki': '25.15m2',\n",
      " 'title': 'ロイヤルシティ西日暮里'}\n"
     ]
    }
   ],
   "source": [
    "# pprintを用いると一行でずらっと記載されてしまう辞書型を開業してキーごとにわかりやすく表示しれくれる\n",
    "pprint(d_list[0])\n",
    "print()\n",
    "pprint(d_list[1])"
   ]
  },
  {
   "cell_type": "markdown",
   "id": "1cf79515",
   "metadata": {},
   "source": [
    "### 複数ページから取得する関数をつける"
   ]
  },
  {
   "cell_type": "code",
   "execution_count": 27,
   "id": "2d3d00f3",
   "metadata": {},
   "outputs": [],
   "source": [
    "#1　アクセスするURLを設定する　→ここを２、３・・・と変更していけばよい！\n",
    "#2 Requestsを使って設定したURLにアクセスする\n",
    "#3 取得したHTMLをBeautifulSoupをで解析する\n",
    "#4 全ての物件情報を取得する（２０件）\n",
    "#5 各物件情報から物件の詳細と各部屋情報を取得する\n",
    "#6　それぞれを解析する\n",
    "#7　解析した結果を辞書に格納する"
   ]
  },
  {
   "cell_type": "code",
   "execution_count": 28,
   "id": "0a11ec4e",
   "metadata": {},
   "outputs": [
    {
     "name": "stdout",
     "output_type": "stream",
     "text": [
      "d_listの大きさ: 48\n",
      "https://suumo.jp/chintai/tokyo/sc_arakawa/?page=1\n",
      "d_listの大きさ: 48\n",
      "https://suumo.jp/chintai/tokyo/sc_arakawa/?page=2\n",
      "d_listの大きさ: 48\n",
      "https://suumo.jp/chintai/tokyo/sc_arakawa/?page=3\n"
     ]
    }
   ],
   "source": [
    "#1〜３をループする\n",
    "# 3ページ目までを取得とする\n",
    "\n",
    "for i in range(1,4):\n",
    "    print('d_listの大きさ:', len(d_list))\n",
    "    \n",
    "    #変数target_urlにアクセス先のURLを格納する\n",
    "    target_url = url.format(i)\n",
    "    \n",
    "    print(target_url)    \n",
    "    \n",
    "# 負荷をかけないようにsleepを挟み込んであげる\n",
    "    sleep(1)"
   ]
  },
  {
   "cell_type": "code",
   "execution_count": 29,
   "id": "9b31ab4d",
   "metadata": {},
   "outputs": [
    {
     "name": "stdout",
     "output_type": "stream",
     "text": [
      "d_listの大きさ: 48\n",
      "d_listの大きさ: 96\n",
      "d_listの大きさ: 149\n"
     ]
    }
   ],
   "source": [
    "# これまでをすべてまとめる\n",
    "\n",
    "#1〜３をループする\n",
    "\n",
    "for i in range(1,4):\n",
    "    print('d_listの大きさ:', len(d_list)) # list の長さを出力することで正確に抽出できているかを知るため\n",
    "\n",
    "    #変数target_urlにアクセス先のURLを格納する\n",
    "    target_url = url.format(i)\n",
    "    \n",
    "    #target_urlへのアクセス結果を変数rに格納する→ここでデータとってきてる！\n",
    "    r = requests.get(target_url)\n",
    "    \n",
    "    sleep(1)\n",
    "    \n",
    "    #取得結果を解析してsoupに格納する\n",
    "    soup = BeautifulSoup(r.text)\n",
    "    \n",
    "    #変数d_listに空のリストを作成する\n",
    "    # d_list = [] → すでに上で定義しているのでここで定義すると変になってしまう\n",
    "\n",
    "    #全ての物件情報（２０件）を取得する\n",
    "    contents = soup.find_all('div',class_='cassetteitem')\n",
    "\n",
    "    #各物件情報をforループで取得する\n",
    "    for content in contents:\n",
    "    \n",
    "        #物件情報と部屋情報を取得\n",
    "        detail = content.find('div',class_='cassetteitem-detail')\n",
    "        table = content.find('div',class_='cassetteitem-item')\n",
    "\n",
    "        #物件情報から必要な情報を取得\n",
    "        title = detail.find('div',class_='cassetteitem_content-title').text\n",
    "        address = detail.find('li',class_='cassetteitem_detail-col1').text\n",
    "        access = detail.find('li',class_='cassetteitem_detail-col2').text\n",
    "        age = detail.find('li',class_='cassetteitem_detail-col3').text\n",
    "\n",
    "        #部屋情報のブロックから各部屋情報を取得\n",
    "        tr_tags = table.find_all('tr',class_='js-cassette_link')\n",
    "\n",
    "        #各部屋情報をforループで取得する\n",
    "        for tr_tag in tr_tags:\n",
    "\n",
    "            #部屋情報の行から欲しい情報を取得\n",
    "            floor,price,first_fee,capacity = tr_tag.find_all('td')[2:6]\n",
    "\n",
    "            #さらに細かい情報を取得\n",
    "            fee,management_fee = price.find_all('li')\n",
    "            deposit,gratuity = first_fee.find_all('li')\n",
    "            madori,menseki = capacity.find_all('li')\n",
    "\n",
    "            #取得した全ての情報を辞書に格納\n",
    "            d = {\n",
    "                'title':title,\n",
    "                'address':address,\n",
    "                'access':access,\n",
    "                'age':age,\n",
    "                'floor':floor.text,\n",
    "                'fee':fee.text,\n",
    "                'management_fee':management_fee.text,\n",
    "                'deposit':deposit.text,\n",
    "                'gratuity':gratuity.text,\n",
    "                'madori':madori.text,\n",
    "                'menseki':menseki.text\n",
    "            }\n",
    "\n",
    "            #取得した辞書をd_listに格納する！\n",
    "\n",
    "            d_list.append(d)"
   ]
  },
  {
   "cell_type": "code",
   "execution_count": 30,
   "id": "3669ebff",
   "metadata": {},
   "outputs": [
    {
     "data": {
      "text/html": [
       "<div>\n",
       "<style scoped>\n",
       "    .dataframe tbody tr th:only-of-type {\n",
       "        vertical-align: middle;\n",
       "    }\n",
       "\n",
       "    .dataframe tbody tr th {\n",
       "        vertical-align: top;\n",
       "    }\n",
       "\n",
       "    .dataframe thead th {\n",
       "        text-align: right;\n",
       "    }\n",
       "</style>\n",
       "<table border=\"1\" class=\"dataframe\">\n",
       "  <thead>\n",
       "    <tr style=\"text-align: right;\">\n",
       "      <th></th>\n",
       "      <th>title</th>\n",
       "      <th>address</th>\n",
       "      <th>access</th>\n",
       "      <th>age</th>\n",
       "      <th>floor</th>\n",
       "      <th>fee</th>\n",
       "      <th>management_fee</th>\n",
       "      <th>deposit</th>\n",
       "      <th>gratuity</th>\n",
       "      <th>madori</th>\n",
       "      <th>menseki</th>\n",
       "    </tr>\n",
       "  </thead>\n",
       "  <tbody>\n",
       "    <tr>\n",
       "      <th>0</th>\n",
       "      <td>アイレックス</td>\n",
       "      <td>東京都荒川区町屋２</td>\n",
       "      <td>\\n東京メトロ千代田線/町屋駅 歩7分\\nＪＲ山手線/田端駅 歩24分\\n京成本線/新三河島...</td>\n",
       "      <td>\\n築16年\\n4階建\\n</td>\n",
       "      <td>\\r\\n\\t\\t\\t\\t\\t\\t\\t\\t\\t\\t\\t1階</td>\n",
       "      <td>14万円</td>\n",
       "      <td>8000円</td>\n",
       "      <td>-</td>\n",
       "      <td>14万円</td>\n",
       "      <td>2LDK</td>\n",
       "      <td>58.78m2</td>\n",
       "    </tr>\n",
       "    <tr>\n",
       "      <th>1</th>\n",
       "      <td>ロイヤルシティ西日暮里</td>\n",
       "      <td>東京都荒川区西日暮里６</td>\n",
       "      <td>\\nＪＲ山手線/西日暮里駅 歩6分\\n京成本線/新三河島駅 歩8分\\nＪＲ京浜東北線/日暮里...</td>\n",
       "      <td>\\n築9年\\n5階建\\n</td>\n",
       "      <td>\\r\\n\\t\\t\\t\\t\\t\\t\\t\\t\\t\\t\\t2階</td>\n",
       "      <td>8.2万円</td>\n",
       "      <td>3000円</td>\n",
       "      <td>4.1万円</td>\n",
       "      <td>8.2万円</td>\n",
       "      <td>1DK</td>\n",
       "      <td>25.15m2</td>\n",
       "    </tr>\n",
       "    <tr>\n",
       "      <th>2</th>\n",
       "      <td>ロイヤルシティ西日暮里</td>\n",
       "      <td>東京都荒川区西日暮里６</td>\n",
       "      <td>\\nＪＲ山手線/西日暮里駅 歩6分\\n京成本線/新三河島駅 歩8分\\nＪＲ京浜東北線/日暮里...</td>\n",
       "      <td>\\n築9年\\n5階建\\n</td>\n",
       "      <td>\\r\\n\\t\\t\\t\\t\\t\\t\\t\\t\\t\\t\\t2階</td>\n",
       "      <td>8.2万円</td>\n",
       "      <td>5000円</td>\n",
       "      <td>4.1万円</td>\n",
       "      <td>8.2万円</td>\n",
       "      <td>1DK</td>\n",
       "      <td>25.15m2</td>\n",
       "    </tr>\n",
       "    <tr>\n",
       "      <th>3</th>\n",
       "      <td>ＪＲ山手線 西日暮里駅 5階建 築9年</td>\n",
       "      <td>東京都荒川区西日暮里６</td>\n",
       "      <td>\\nＪＲ山手線/西日暮里駅 歩6分\\nＪＲ常磐線/三河島駅 歩10分\\nＪＲ京浜東北線/日暮...</td>\n",
       "      <td>\\n築9年\\n5階建\\n</td>\n",
       "      <td>\\r\\n\\t\\t\\t\\t\\t\\t\\t\\t\\t\\t\\t2階</td>\n",
       "      <td>8.2万円</td>\n",
       "      <td>5000円</td>\n",
       "      <td>4.1万円</td>\n",
       "      <td>8.2万円</td>\n",
       "      <td>1DK</td>\n",
       "      <td>25.15m2</td>\n",
       "    </tr>\n",
       "    <tr>\n",
       "      <th>4</th>\n",
       "      <td>東京メトロ千代田線 町屋駅 3階建 築8年</td>\n",
       "      <td>東京都荒川区東尾久６</td>\n",
       "      <td>\\n東京メトロ千代田線/町屋駅 歩13分\\n日暮里・舎人ライナー/熊野前駅 歩8分\\nＪＲ山...</td>\n",
       "      <td>\\n築8年\\n3階建\\n</td>\n",
       "      <td>\\r\\n\\t\\t\\t\\t\\t\\t\\t\\t\\t\\t\\t1階</td>\n",
       "      <td>7.5万円</td>\n",
       "      <td>3000円</td>\n",
       "      <td>7.5万円</td>\n",
       "      <td>-</td>\n",
       "      <td>1K</td>\n",
       "      <td>26.7m2</td>\n",
       "    </tr>\n",
       "  </tbody>\n",
       "</table>\n",
       "</div>"
      ],
      "text/plain": [
       "                   title      address  \\\n",
       "0                 アイレックス    東京都荒川区町屋２   \n",
       "1            ロイヤルシティ西日暮里  東京都荒川区西日暮里６   \n",
       "2            ロイヤルシティ西日暮里  東京都荒川区西日暮里６   \n",
       "3    ＪＲ山手線 西日暮里駅 5階建 築9年  東京都荒川区西日暮里６   \n",
       "4  東京メトロ千代田線 町屋駅 3階建 築8年   東京都荒川区東尾久６   \n",
       "\n",
       "                                              access            age  \\\n",
       "0  \\n東京メトロ千代田線/町屋駅 歩7分\\nＪＲ山手線/田端駅 歩24分\\n京成本線/新三河島...  \\n築16年\\n4階建\\n   \n",
       "1  \\nＪＲ山手線/西日暮里駅 歩6分\\n京成本線/新三河島駅 歩8分\\nＪＲ京浜東北線/日暮里...   \\n築9年\\n5階建\\n   \n",
       "2  \\nＪＲ山手線/西日暮里駅 歩6分\\n京成本線/新三河島駅 歩8分\\nＪＲ京浜東北線/日暮里...   \\n築9年\\n5階建\\n   \n",
       "3  \\nＪＲ山手線/西日暮里駅 歩6分\\nＪＲ常磐線/三河島駅 歩10分\\nＪＲ京浜東北線/日暮...   \\n築9年\\n5階建\\n   \n",
       "4  \\n東京メトロ千代田線/町屋駅 歩13分\\n日暮里・舎人ライナー/熊野前駅 歩8分\\nＪＲ山...   \\n築8年\\n3階建\\n   \n",
       "\n",
       "                          floor    fee management_fee deposit gratuity madori  \\\n",
       "0  \\r\\n\\t\\t\\t\\t\\t\\t\\t\\t\\t\\t\\t1階   14万円          8000円       -     14万円   2LDK   \n",
       "1  \\r\\n\\t\\t\\t\\t\\t\\t\\t\\t\\t\\t\\t2階  8.2万円          3000円   4.1万円    8.2万円    1DK   \n",
       "2  \\r\\n\\t\\t\\t\\t\\t\\t\\t\\t\\t\\t\\t2階  8.2万円          5000円   4.1万円    8.2万円    1DK   \n",
       "3  \\r\\n\\t\\t\\t\\t\\t\\t\\t\\t\\t\\t\\t2階  8.2万円          5000円   4.1万円    8.2万円    1DK   \n",
       "4  \\r\\n\\t\\t\\t\\t\\t\\t\\t\\t\\t\\t\\t1階  7.5万円          3000円   7.5万円        -     1K   \n",
       "\n",
       "   menseki  \n",
       "0  58.78m2  \n",
       "1  25.15m2  \n",
       "2  25.15m2  \n",
       "3  25.15m2  \n",
       "4   26.7m2  "
      ]
     },
     "execution_count": 30,
     "metadata": {},
     "output_type": "execute_result"
    }
   ],
   "source": [
    "#取得したデータ結果を表形式に変える！\n",
    "#headで先頭業を確認\n",
    "\n",
    "df = pd.DataFrame(d_list)\n",
    "df.head()"
   ]
  },
  {
   "cell_type": "code",
   "execution_count": 31,
   "id": "9bf0370a",
   "metadata": {},
   "outputs": [
    {
     "data": {
      "text/plain": [
       "60"
      ]
     },
     "execution_count": 31,
     "metadata": {},
     "output_type": "execute_result"
    }
   ],
   "source": [
    "#uniqueで重複なく取り出せる→２０件×3ページになっているか確認\n",
    "len(df.title.unique())"
   ]
  },
  {
   "cell_type": "code",
   "execution_count": 32,
   "id": "7a780f4c",
   "metadata": {},
   "outputs": [],
   "source": [
    "\n",
    "#encordinghはエクセル文字化け対策！\n",
    "df.to_csv('chintai_arakata.csv',index=None,encoding='utf-8-sig')"
   ]
  },
  {
   "cell_type": "code",
   "execution_count": 33,
   "id": "71e03342",
   "metadata": {},
   "outputs": [
    {
     "data": {
      "text/html": [
       "<div>\n",
       "<style scoped>\n",
       "    .dataframe tbody tr th:only-of-type {\n",
       "        vertical-align: middle;\n",
       "    }\n",
       "\n",
       "    .dataframe tbody tr th {\n",
       "        vertical-align: top;\n",
       "    }\n",
       "\n",
       "    .dataframe thead th {\n",
       "        text-align: right;\n",
       "    }\n",
       "</style>\n",
       "<table border=\"1\" class=\"dataframe\">\n",
       "  <thead>\n",
       "    <tr style=\"text-align: right;\">\n",
       "      <th></th>\n",
       "      <th>title</th>\n",
       "      <th>address</th>\n",
       "      <th>access</th>\n",
       "      <th>age</th>\n",
       "      <th>floor</th>\n",
       "      <th>fee</th>\n",
       "      <th>management_fee</th>\n",
       "      <th>deposit</th>\n",
       "      <th>gratuity</th>\n",
       "      <th>madori</th>\n",
       "      <th>menseki</th>\n",
       "    </tr>\n",
       "  </thead>\n",
       "  <tbody>\n",
       "    <tr>\n",
       "      <th>0</th>\n",
       "      <td>アイレックス</td>\n",
       "      <td>東京都荒川区町屋２</td>\n",
       "      <td>\\n東京メトロ千代田線/町屋駅 歩7分\\nＪＲ山手線/田端駅 歩24分\\n京成本線/新三河島...</td>\n",
       "      <td>\\n築16年\\n4階建\\n</td>\n",
       "      <td>\\r\\n\\t\\t\\t\\t\\t\\t\\t\\t\\t\\t\\t1階</td>\n",
       "      <td>14万円</td>\n",
       "      <td>8000円</td>\n",
       "      <td>-</td>\n",
       "      <td>14万円</td>\n",
       "      <td>2LDK</td>\n",
       "      <td>58.78m2</td>\n",
       "    </tr>\n",
       "    <tr>\n",
       "      <th>1</th>\n",
       "      <td>ロイヤルシティ西日暮里</td>\n",
       "      <td>東京都荒川区西日暮里６</td>\n",
       "      <td>\\nＪＲ山手線/西日暮里駅 歩6分\\n京成本線/新三河島駅 歩8分\\nＪＲ京浜東北線/日暮里...</td>\n",
       "      <td>\\n築9年\\n5階建\\n</td>\n",
       "      <td>\\r\\n\\t\\t\\t\\t\\t\\t\\t\\t\\t\\t\\t2階</td>\n",
       "      <td>8.2万円</td>\n",
       "      <td>3000円</td>\n",
       "      <td>4.1万円</td>\n",
       "      <td>8.2万円</td>\n",
       "      <td>1DK</td>\n",
       "      <td>25.15m2</td>\n",
       "    </tr>\n",
       "    <tr>\n",
       "      <th>2</th>\n",
       "      <td>ロイヤルシティ西日暮里</td>\n",
       "      <td>東京都荒川区西日暮里６</td>\n",
       "      <td>\\nＪＲ山手線/西日暮里駅 歩6分\\n京成本線/新三河島駅 歩8分\\nＪＲ京浜東北線/日暮里...</td>\n",
       "      <td>\\n築9年\\n5階建\\n</td>\n",
       "      <td>\\r\\n\\t\\t\\t\\t\\t\\t\\t\\t\\t\\t\\t2階</td>\n",
       "      <td>8.2万円</td>\n",
       "      <td>5000円</td>\n",
       "      <td>4.1万円</td>\n",
       "      <td>8.2万円</td>\n",
       "      <td>1DK</td>\n",
       "      <td>25.15m2</td>\n",
       "    </tr>\n",
       "    <tr>\n",
       "      <th>3</th>\n",
       "      <td>ＪＲ山手線 西日暮里駅 5階建 築9年</td>\n",
       "      <td>東京都荒川区西日暮里６</td>\n",
       "      <td>\\nＪＲ山手線/西日暮里駅 歩6分\\nＪＲ常磐線/三河島駅 歩10分\\nＪＲ京浜東北線/日暮...</td>\n",
       "      <td>\\n築9年\\n5階建\\n</td>\n",
       "      <td>\\r\\n\\t\\t\\t\\t\\t\\t\\t\\t\\t\\t\\t2階</td>\n",
       "      <td>8.2万円</td>\n",
       "      <td>5000円</td>\n",
       "      <td>4.1万円</td>\n",
       "      <td>8.2万円</td>\n",
       "      <td>1DK</td>\n",
       "      <td>25.15m2</td>\n",
       "    </tr>\n",
       "    <tr>\n",
       "      <th>4</th>\n",
       "      <td>東京メトロ千代田線 町屋駅 3階建 築8年</td>\n",
       "      <td>東京都荒川区東尾久６</td>\n",
       "      <td>\\n東京メトロ千代田線/町屋駅 歩13分\\n日暮里・舎人ライナー/熊野前駅 歩8分\\nＪＲ山...</td>\n",
       "      <td>\\n築8年\\n3階建\\n</td>\n",
       "      <td>\\r\\n\\t\\t\\t\\t\\t\\t\\t\\t\\t\\t\\t1階</td>\n",
       "      <td>7.5万円</td>\n",
       "      <td>3000円</td>\n",
       "      <td>7.5万円</td>\n",
       "      <td>-</td>\n",
       "      <td>1K</td>\n",
       "      <td>26.7m2</td>\n",
       "    </tr>\n",
       "  </tbody>\n",
       "</table>\n",
       "</div>"
      ],
      "text/plain": [
       "                   title      address  \\\n",
       "0                 アイレックス    東京都荒川区町屋２   \n",
       "1            ロイヤルシティ西日暮里  東京都荒川区西日暮里６   \n",
       "2            ロイヤルシティ西日暮里  東京都荒川区西日暮里６   \n",
       "3    ＪＲ山手線 西日暮里駅 5階建 築9年  東京都荒川区西日暮里６   \n",
       "4  東京メトロ千代田線 町屋駅 3階建 築8年   東京都荒川区東尾久６   \n",
       "\n",
       "                                              access            age  \\\n",
       "0  \\n東京メトロ千代田線/町屋駅 歩7分\\nＪＲ山手線/田端駅 歩24分\\n京成本線/新三河島...  \\n築16年\\n4階建\\n   \n",
       "1  \\nＪＲ山手線/西日暮里駅 歩6分\\n京成本線/新三河島駅 歩8分\\nＪＲ京浜東北線/日暮里...   \\n築9年\\n5階建\\n   \n",
       "2  \\nＪＲ山手線/西日暮里駅 歩6分\\n京成本線/新三河島駅 歩8分\\nＪＲ京浜東北線/日暮里...   \\n築9年\\n5階建\\n   \n",
       "3  \\nＪＲ山手線/西日暮里駅 歩6分\\nＪＲ常磐線/三河島駅 歩10分\\nＪＲ京浜東北線/日暮...   \\n築9年\\n5階建\\n   \n",
       "4  \\n東京メトロ千代田線/町屋駅 歩13分\\n日暮里・舎人ライナー/熊野前駅 歩8分\\nＪＲ山...   \\n築8年\\n3階建\\n   \n",
       "\n",
       "                          floor    fee management_fee deposit gratuity madori  \\\n",
       "0  \\r\\n\\t\\t\\t\\t\\t\\t\\t\\t\\t\\t\\t1階   14万円          8000円       -     14万円   2LDK   \n",
       "1  \\r\\n\\t\\t\\t\\t\\t\\t\\t\\t\\t\\t\\t2階  8.2万円          3000円   4.1万円    8.2万円    1DK   \n",
       "2  \\r\\n\\t\\t\\t\\t\\t\\t\\t\\t\\t\\t\\t2階  8.2万円          5000円   4.1万円    8.2万円    1DK   \n",
       "3  \\r\\n\\t\\t\\t\\t\\t\\t\\t\\t\\t\\t\\t2階  8.2万円          5000円   4.1万円    8.2万円    1DK   \n",
       "4  \\r\\n\\t\\t\\t\\t\\t\\t\\t\\t\\t\\t\\t1階  7.5万円          3000円   7.5万円        -     1K   \n",
       "\n",
       "   menseki  \n",
       "0  58.78m2  \n",
       "1  25.15m2  \n",
       "2  25.15m2  \n",
       "3  25.15m2  \n",
       "4   26.7m2  "
      ]
     },
     "execution_count": 33,
     "metadata": {},
     "output_type": "execute_result"
    }
   ],
   "source": [
    "df.head()"
   ]
  },
  {
   "cell_type": "code",
   "execution_count": 34,
   "id": "b8f10dca",
   "metadata": {},
   "outputs": [
    {
     "data": {
      "text/plain": [
       "0    \\r\\n\\t\\t\\t\\t\\t\\t\\t\\t\\t\\t\\t1階\n",
       "1    \\r\\n\\t\\t\\t\\t\\t\\t\\t\\t\\t\\t\\t2階\n",
       "2    \\r\\n\\t\\t\\t\\t\\t\\t\\t\\t\\t\\t\\t2階\n",
       "3    \\r\\n\\t\\t\\t\\t\\t\\t\\t\\t\\t\\t\\t2階\n",
       "4    \\r\\n\\t\\t\\t\\t\\t\\t\\t\\t\\t\\t\\t1階\n",
       "Name: floor, dtype: object"
      ]
     },
     "execution_count": 34,
     "metadata": {},
     "output_type": "execute_result"
    }
   ],
   "source": [
    "df[\"floor\"].head()"
   ]
  },
  {
   "cell_type": "code",
   "execution_count": 38,
   "id": "198aa0ab",
   "metadata": {},
   "outputs": [
    {
     "data": {
      "text/plain": [
       "title             object\n",
       "address           object\n",
       "access            object\n",
       "age               object\n",
       "floor             object\n",
       "fee               object\n",
       "management_fee    object\n",
       "deposit           object\n",
       "gratuity          object\n",
       "madori            object\n",
       "menseki           object\n",
       "dtype: object"
      ]
     },
     "execution_count": 38,
     "metadata": {},
     "output_type": "execute_result"
    }
   ],
   "source": [
    "df.dtypes"
   ]
  },
  {
   "cell_type": "code",
   "execution_count": 48,
   "id": "d6f2ec0a",
   "metadata": {},
   "outputs": [
    {
     "data": {
      "text/plain": [
       "0      1階\n",
       "1      2階\n",
       "2      2階\n",
       "3      2階\n",
       "4      1階\n",
       "       ..\n",
       "189    1階\n",
       "190    2階\n",
       "191    6階\n",
       "192    1階\n",
       "193    2階\n",
       "Name: floor, Length: 194, dtype: object"
      ]
     },
     "execution_count": 48,
     "metadata": {},
     "output_type": "execute_result"
    }
   ],
   "source": [
    "# floorの余計な文字を削除\n",
    "df[\"floor\"].str.replace(\"\\r\\n\\t\\t\\t\\t\\t\\t\\t\\t\\t\\t\\t\",\"\")"
   ]
  },
  {
   "cell_type": "code",
   "execution_count": 51,
   "id": "3b520939",
   "metadata": {},
   "outputs": [],
   "source": [
    "# 以下、間違って消してしまったが、feeの万円を削除\n",
    "# df[\"fee\"].str.replace(\"万円\",\"\")"
   ]
  },
  {
   "cell_type": "code",
   "execution_count": 53,
   "id": "255c9091",
   "metadata": {},
   "outputs": [],
   "source": [
    "df['fee'] = df['fee'].astype(\"float\")"
   ]
  },
  {
   "cell_type": "code",
   "execution_count": 56,
   "id": "933f6600",
   "metadata": {},
   "outputs": [],
   "source": [
    "df[\"fee\"] = df[\"fee\"]*10000"
   ]
  },
  {
   "cell_type": "code",
   "execution_count": 58,
   "id": "36566713",
   "metadata": {},
   "outputs": [],
   "source": [
    "df['fee'] = df['fee'].astype(\"int\")"
   ]
  },
  {
   "cell_type": "code",
   "execution_count": 60,
   "id": "6aa40fc4",
   "metadata": {},
   "outputs": [],
   "source": [
    "# df"
   ]
  },
  {
   "cell_type": "markdown",
   "id": "c42ac2ee",
   "metadata": {},
   "source": [
    "### FeeとFloorについて整形したので、それをスプシに一旦落として提出"
   ]
  },
  {
   "cell_type": "code",
   "execution_count": 61,
   "id": "a078b47e",
   "metadata": {},
   "outputs": [],
   "source": [
    "from oauth2client.service_account import ServiceAccountCredentials\n",
    "import gspread"
   ]
  },
  {
   "cell_type": "code",
   "execution_count": 62,
   "id": "3a5ae7f3",
   "metadata": {},
   "outputs": [],
   "source": [
    "#jsonファイルを使って認証情報を取得\n",
    "SCOPES = [    'https://www.googleapis.com/auth/spreadsheets',    'https://www.googleapis.com/auth/drive']\n",
    "SERVICE_ACCOUNT_FILE = \"my-project-scraping-389714-3721aa5b8863.json\""
   ]
  },
  {
   "cell_type": "code",
   "execution_count": 63,
   "id": "3aa85785",
   "metadata": {},
   "outputs": [],
   "source": [
    "credentials = ServiceAccountCredentials.from_json_keyfile_name(SERVICE_ACCOUNT_FILE, SCOPES)"
   ]
  },
  {
   "cell_type": "code",
   "execution_count": 64,
   "id": "28a46cea",
   "metadata": {},
   "outputs": [],
   "source": [
    "#認証情報を使ってスプレッドシートの操作権を取得\n",
    "gs = gspread.authorize(credentials)"
   ]
  },
  {
   "cell_type": "code",
   "execution_count": 65,
   "id": "c7547ef8",
   "metadata": {},
   "outputs": [],
   "source": [
    "#共有したスプレッドシートのキー（後述）を使ってシートの情報を取得\n",
    "# スプレッドシートのキーはシートのURLのうち、最後のeditのteamが書いてある一つ前のセクションから抜き出し\n",
    "SPREADSHEET_KEY = \"1mA-Zv-h7OvzEFmzCYoS6btqzxW9oGPZPLqSCG9ynVYE\""
   ]
  },
  {
   "cell_type": "code",
   "execution_count": 66,
   "id": "4b9aadb5",
   "metadata": {},
   "outputs": [],
   "source": [
    "from gspread_dataframe import set_with_dataframe"
   ]
  },
  {
   "cell_type": "code",
   "execution_count": 67,
   "id": "7f06cc0a",
   "metadata": {},
   "outputs": [],
   "source": [
    "workbook = gs.open_by_key(SPREADSHEET_KEY)"
   ]
  },
  {
   "cell_type": "code",
   "execution_count": 69,
   "id": "851f9a65",
   "metadata": {},
   "outputs": [
    {
     "data": {
      "text/plain": [
       "<Worksheet '賃貸情報' id:851647671>"
      ]
     },
     "execution_count": 69,
     "metadata": {},
     "output_type": "execute_result"
    }
   ],
   "source": [
    "#スプしにワークシートを追加（rows,colsは必須！）\n",
    "workbook.add_worksheet(title='賃貸情報',rows=300 ,cols=15)"
   ]
  },
  {
   "cell_type": "code",
   "execution_count": null,
   "id": "f3aa1189",
   "metadata": {},
   "outputs": [],
   "source": [
    "# スプシにデータを出力"
   ]
  }
 ],
 "metadata": {
  "kernelspec": {
   "display_name": "Python 3 (ipykernel)",
   "language": "python",
   "name": "python3"
  },
  "language_info": {
   "codemirror_mode": {
    "name": "ipython",
    "version": 3
   },
   "file_extension": ".py",
   "mimetype": "text/x-python",
   "name": "python",
   "nbconvert_exporter": "python",
   "pygments_lexer": "ipython3",
   "version": "3.9.13"
  }
 },
 "nbformat": 4,
 "nbformat_minor": 5
}
